{
 "cells": [
  {
   "cell_type": "code",
   "execution_count": 1,
   "metadata": {},
   "outputs": [],
   "source": [
    "## Install OpenCV to read images\n",
    "## !pip install opencv-python"
   ]
  },
  {
   "cell_type": "markdown",
   "metadata": {},
   "source": [
    "## PlantVillage Disease Classification Challenge\n",
    "\n",
    "Followis is a entry level code to develop a classifier that can Identify crop species and disease, using a dataset of tens of thousands of expert labeled leaf images.\n",
    "\n",
    "More about dataset: https://arxiv.org/abs/1511.08060\n",
    "\n",
    "More about Project: https://www.crowdai.org/organizers/plantvillage"
   ]
  },
  {
   "cell_type": "code",
   "execution_count": 1,
   "metadata": {},
   "outputs": [
    {
     "name": "stderr",
     "output_type": "stream",
     "text": [
      "Using TensorFlow backend.\n"
     ]
    }
   ],
   "source": [
    "import numpy as np\n",
    "import pickle\n",
    "import cv2\n",
    "from os import listdir\n",
    "from sklearn.preprocessing import LabelBinarizer\n",
    "from keras.models import Sequential\n",
    "from keras.layers.normalization import BatchNormalization\n",
    "from keras.layers.convolutional import Conv2D\n",
    "from keras.layers.convolutional import MaxPooling2D\n",
    "from keras.layers.core import Activation, Flatten, Dropout, Dense\n",
    "from keras import backend as K\n",
    "from keras.preprocessing.image import ImageDataGenerator\n",
    "from keras.optimizers import Adam\n",
    "from keras.preprocessing import image\n",
    "from keras.preprocessing.image import img_to_array\n",
    "from sklearn.preprocessing import MultiLabelBinarizer\n",
    "from sklearn.model_selection import train_test_split\n",
    "import matplotlib.pyplot as plt\n",
    "import pandas as pd"
   ]
  },
  {
   "cell_type": "markdown",
   "metadata": {},
   "source": [
    "### Function to read image from file and convert to array"
   ]
  },
  {
   "cell_type": "code",
   "execution_count": 2,
   "metadata": {},
   "outputs": [],
   "source": [
    "default_image_size = tuple((256, 256))\n",
    "## Function to convert image to array of 256 X 256\n",
    "def convert_image_to_array(image_dir):\n",
    "    try:\n",
    "        image = cv2.imread(image_dir)\n",
    "        if image is not None :\n",
    "            image = cv2.resize(image, default_image_size)   \n",
    "            return img_to_array(image)\n",
    "        else :\n",
    "            return np.array([])\n",
    "    except Exception as e:\n",
    "        print(f\"Error : {e}\")\n",
    "        return None"
   ]
  },
  {
   "cell_type": "markdown",
   "metadata": {},
   "source": [
    "### Load images from directory and create Image list and lable list\n",
    "\n",
    "In this function,\n",
    "- We will read each image from directory and convert them to array. Array of image is added to image_list\n",
    "\n",
    "- Each image is read from directory, directory name is class lable. Class lable are read in lable_list.\n"
   ]
  },
  {
   "cell_type": "code",
   "execution_count": 12,
   "metadata": {},
   "outputs": [
    {
     "name": "stdout",
     "output_type": "stream",
     "text": [
      "34 15\n"
     ]
    },
    {
     "data": {
      "text/plain": [
       "344"
      ]
     },
     "execution_count": 12,
     "metadata": {},
     "output_type": "execute_result"
    }
   ],
   "source": [
    "image_list_a, label_list = [], []\n",
    "\n",
    "totalImage = 0  # it is used to control total numbe of images for each class\n",
    "\n",
    "root_dir = listdir(\"PlantVillage/\") # Specify location of plant images\n",
    "\n",
    "for image_folder in root_dir :  # Look for each folder\n",
    "    # Look for All images in each folder\n",
    "    image_list = listdir(f\"PlantVillage/{image_folder}\")\n",
    "    \n",
    "    for image in image_list:\n",
    "        # Read each image in a variable image_list_a and \n",
    "        #correspoding folder name as image lable\n",
    "        \n",
    "        image_name = f\"PlantVillage/{image_folder}/\"+image\n",
    "        if isinstance(image_name, str) == True:\n",
    "            if image_name.endswith(\".jpg\") == True or image_name.endswith(\".JPG\") == True:\n",
    "                image_list_a.append(convert_image_to_array(image_name))\n",
    "                label_list.append(image_folder)\n",
    "        totalImage = totalImage+1\n",
    "        if(totalImage>=20):          \n",
    "            break\n",
    "            \n",
    "print(len(label_list),len(np.unique(np.asarray(label_list))))\n",
    "from sys import getsizeof\n",
    "getsizeof(image_list_a)"
   ]
  },
  {
   "cell_type": "markdown",
   "metadata": {},
   "source": [
    "### LabelBinarizer is used to encode lable list into onehot encoding\n",
    "\n",
    "A one hot encoding is a representation of categorical variables as binary vectors. This first requires that the categorical values be mapped to integer values. Then, each integer value is represented as a binary vector that is all zero values except the index of the integer, which is marked with a 1"
   ]
  },
  {
   "cell_type": "code",
   "execution_count": 13,
   "metadata": {},
   "outputs": [],
   "source": [
    "# Convert total 15 class to one hot encoding\n",
    "label_binarizer = LabelBinarizer()\n",
    "image_labels = label_binarizer.fit_transform(label_list)\n",
    "pickle.dump(label_binarizer,open('label_transform.pkl', 'wb'))\n",
    "n_classes = len(label_binarizer.classes_)"
   ]
  },
  {
   "cell_type": "markdown",
   "metadata": {},
   "source": [
    "### Data is split into train-test sets"
   ]
  },
  {
   "cell_type": "code",
   "execution_count": 14,
   "metadata": {},
   "outputs": [],
   "source": [
    "# Split data in train and test\n",
    "image_list_a = np.asarray(image_list_a)\n",
    "x_train, x_test, y_train, y_test = train_test_split(image_list_a, image_labels, test_size=0.2, random_state = 42)"
   ]
  },
  {
   "cell_type": "markdown",
   "metadata": {},
   "source": [
    "### Model Development\n",
    "Here, some constants are defined which can be changed accoding to requiremtns.\n",
    "\n",
    "Also, Model defined here is just initial model which can be further optimized to achive stable score for loss and accuracy."
   ]
  },
  {
   "cell_type": "code",
   "execution_count": 15,
   "metadata": {},
   "outputs": [
    {
     "name": "stdout",
     "output_type": "stream",
     "text": [
      "_________________________________________________________________\n",
      "Layer (type)                 Output Shape              Param #   \n",
      "=================================================================\n",
      "conv2d_2 (Conv2D)            (None, 256, 256, 4)       112       \n",
      "_________________________________________________________________\n",
      "activation_4 (Activation)    (None, 256, 256, 4)       0         \n",
      "_________________________________________________________________\n",
      "batch_normalization_3 (Batch (None, 256, 256, 4)       1024      \n",
      "_________________________________________________________________\n",
      "max_pooling2d_2 (MaxPooling2 (None, 85, 85, 4)         0         \n",
      "_________________________________________________________________\n",
      "dropout_3 (Dropout)          (None, 85, 85, 4)         0         \n",
      "_________________________________________________________________\n",
      "flatten_2 (Flatten)          (None, 28900)             0         \n",
      "_________________________________________________________________\n",
      "dense_3 (Dense)              (None, 524)               15144124  \n",
      "_________________________________________________________________\n",
      "activation_5 (Activation)    (None, 524)               0         \n",
      "_________________________________________________________________\n",
      "batch_normalization_4 (Batch (None, 524)               2096      \n",
      "_________________________________________________________________\n",
      "dropout_4 (Dropout)          (None, 524)               0         \n",
      "_________________________________________________________________\n",
      "dense_4 (Dense)              (None, 15)                7875      \n",
      "_________________________________________________________________\n",
      "activation_6 (Activation)    (None, 15)                0         \n",
      "=================================================================\n",
      "Total params: 15,155,231\n",
      "Trainable params: 15,153,671\n",
      "Non-trainable params: 1,560\n",
      "_________________________________________________________________\n"
     ]
    }
   ],
   "source": [
    "\n",
    "EPOCHS = 10\n",
    "INIT_LR = 1e-3\n",
    "BS = 32\n",
    "width=256\n",
    "height=256\n",
    "depth=3\n",
    "inputShape = (height, width, depth)\n",
    "input_shape = (x_train.shape[1], x_train.shape[2], x_train.shape[3]) \n",
    "chanDim = 1\n",
    "\n",
    "# Develope  model\n",
    "model = Sequential()\n",
    "model.add(Conv2D(4, (3, 3), padding=\"same\",input_shape=inputShape))\n",
    "model.add(Activation(\"relu\"))\n",
    "model.add(BatchNormalization(axis=chanDim))\n",
    "model.add(MaxPooling2D(pool_size=(3, 3)))\n",
    "model.add(Dropout(0.25))\n",
    "model.add(Flatten())\n",
    "model.add(Dense(524))\n",
    "model.add(Activation(\"relu\"))\n",
    "model.add(BatchNormalization())\n",
    "model.add(Dropout(0.5))\n",
    "model.add(Dense(n_classes))\n",
    "model.add(Activation(\"softmax\"))\n",
    "model.summary()"
   ]
  },
  {
   "cell_type": "code",
   "execution_count": 16,
   "metadata": {},
   "outputs": [],
   "source": [
    "opt = Adam(lr=INIT_LR, decay=INIT_LR / EPOCHS)\n",
    "model.compile(loss=\"binary_crossentropy\", optimizer=opt,metrics=[\"accuracy\"])"
   ]
  },
  {
   "cell_type": "markdown",
   "metadata": {},
   "source": [
    "### Train a model\n",
    "\n",
    "Fit function is used to train model with training samples.\n",
    "\n",
    "fit_generator is used to train a model with spacial variations in data to capture data from diffeent perspective. \n",
    "Here fit_generator is not used."
   ]
  },
  {
   "cell_type": "code",
   "execution_count": 17,
   "metadata": {},
   "outputs": [
    {
     "name": "stdout",
     "output_type": "stream",
     "text": [
      "Train on 27 samples, validate on 7 samples\n",
      "Epoch 1/10\n",
      "27/27 [==============================] - 3s 121ms/step - loss: 0.3888 - acc: 0.9185 - val_loss: 1.8320 - val_acc: 0.8857\n",
      "Epoch 2/10\n",
      "27/27 [==============================] - 1s 46ms/step - loss: 0.1378 - acc: 0.9580 - val_loss: 1.4594 - val_acc: 0.8857\n",
      "Epoch 3/10\n",
      "27/27 [==============================] - 1s 46ms/step - loss: 0.0876 - acc: 0.9802 - val_loss: 1.2626 - val_acc: 0.8667\n",
      "Epoch 4/10\n",
      "27/27 [==============================] - 1s 45ms/step - loss: 0.0707 - acc: 0.9802 - val_loss: 0.8433 - val_acc: 0.8762\n",
      "Epoch 5/10\n",
      "27/27 [==============================] - 1s 45ms/step - loss: 0.0661 - acc: 0.9802 - val_loss: 0.6886 - val_acc: 0.8857\n",
      "Epoch 6/10\n",
      "27/27 [==============================] - 1s 44ms/step - loss: 0.0217 - acc: 1.0000 - val_loss: 0.7367 - val_acc: 0.9048\n",
      "Epoch 7/10\n",
      "27/27 [==============================] - 1s 46ms/step - loss: 0.0309 - acc: 0.9926 - val_loss: 0.5522 - val_acc: 0.9048\n",
      "Epoch 8/10\n",
      "27/27 [==============================] - 1s 45ms/step - loss: 0.0229 - acc: 0.9951 - val_loss: 0.5341 - val_acc: 0.9048\n",
      "Epoch 9/10\n",
      "27/27 [==============================] - 1s 46ms/step - loss: 0.0178 - acc: 1.0000 - val_loss: 0.5263 - val_acc: 0.9048\n",
      "Epoch 10/10\n",
      "27/27 [==============================] - 1s 45ms/step - loss: 0.0097 - acc: 1.0000 - val_loss: 0.9501 - val_acc: 0.8762\n"
     ]
    }
   ],
   "source": [
    "'''history = model.fit_generator(\n",
    "    aug.flow(x_train, y_train, batch_size=BS),\n",
    "    validation_data=(x_test, y_test),\n",
    "    steps_per_epoch=len(x_train) // BS,\n",
    "    epochs=EPOCHS, verbose=1\n",
    "    )\n",
    "'''\n",
    "history = model.fit(x_train, y_train, batch_size=32,\n",
    "    validation_data=(x_test, y_test),\n",
    "    epochs=EPOCHS, verbose=1\n",
    "    )\n"
   ]
  },
  {
   "cell_type": "markdown",
   "metadata": {},
   "source": [
    "### Ploting accuracy and loss"
   ]
  },
  {
   "cell_type": "code",
   "execution_count": 10,
   "metadata": {},
   "outputs": [
    {
     "data": {
      "image/png": "[encoded data removed]",
      "text/plain": [
       "<Figure size 432x288 with 1 Axes>"
      ]
     },
     "metadata": {
      "needs_background": "light"
     },
     "output_type": "display_data"
    },
    {
     "data": {
      "image/png": "[encoded data removed]",
      "text/plain": [
       "<Figure size 432x288 with 1 Axes>"
      ]
     },
     "metadata": {
      "needs_background": "light"
     },
     "output_type": "display_data"
    }
   ],
   "source": [
    "acc = history.history['acc']\n",
    "val_acc = history.history['val_acc']\n",
    "loss = history.history['loss']\n",
    "val_loss = history.history['val_loss']\n",
    "epochs = range(1, len(acc) + 1)\n",
    "#Train and validation accuracy\n",
    "plt.plot(epochs, acc, 'b', label='Training accurarcy')\n",
    "plt.plot(epochs, val_acc, 'r', label='Validation accurarcy')\n",
    "plt.title('Training and Validation accurarcy')\n",
    "plt.legend()\n",
    "\n",
    "plt.figure()\n",
    "#Train and validation loss\n",
    "plt.plot(epochs, loss, 'b', label='Training loss')\n",
    "plt.plot(epochs, val_loss, 'r', label='Validation loss')\n",
    "plt.title('Training and Validation loss')\n",
    "plt.legend()\n",
    "plt.show()"
   ]
  },
  {
   "cell_type": "code",
   "execution_count": 18,
   "metadata": {},
   "outputs": [
    {
     "name": "stdout",
     "output_type": "stream",
     "text": [
      "\r",
      "7/7 [==============================] - 0s 11ms/step\n"
     ]
    },
    {
     "data": {
      "text/plain": [
       "[0.9501399993896484, 0.8761904835700989]"
      ]
     },
     "execution_count": 18,
     "metadata": {},
     "output_type": "execute_result"
    }
   ],
   "source": [
    "model.evaluate(x_test, y_test)"
   ]
  }
 ],
 "metadata": {
  "kernelspec": {
   "display_name": "Python 3",
   "language": "python",
   "name": "python3"
  },
  "language_info": {
   "codemirror_mode": {
    "name": "ipython",
    "version": 3
   },
   "file_extension": ".py",
   "mimetype": "text/x-python",
   "name": "python",
   "nbconvert_exporter": "python",
   "pygments_lexer": "ipython3",
   "version": "3.7.1"
  }
 },
 "nbformat": 4,
 "nbformat_minor": 2
}
